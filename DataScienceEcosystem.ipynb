{
 "cells": [
  {
   "cell_type": "markdown",
   "id": "64b52a26-c11d-46c3-8df8-ab669f4c0b88",
   "metadata": {},
   "source": [
    "# Data Science Tools and Ecosystem "
   ]
  },
  {
   "cell_type": "markdown",
   "id": "eb878b63-1a50-4eac-9692-ac086c7856d8",
   "metadata": {},
   "source": [
    "In this Notebook, various Data Science Tools and Ecosystem are summarized."
   ]
  },
  {
   "cell_type": "markdown",
   "id": "ce307d24-89ef-4038-b349-302d78f1f0a5",
   "metadata": {},
   "source": [
    "**Objectives:**\n",
    "* List popular Languages for Data Science\n",
    "* List popular libraries for Data Science\n",
    "* Open Source Development Environments for Data Science\n",
    "* Evaluating arithematic expressions in Python"
   ]
  },
  {
   "cell_type": "markdown",
   "id": "6d70a9ec-6b88-4ac9-b0a3-5e6509746583",
   "metadata": {},
   "source": [
    "Some of the popular languages that Data Scientists use are:\n",
    "1. Python\n",
    "2. R\n",
    "3. SQL\n",
    "4. Java\n",
    "5. Scala\n",
    "6. C++\n",
    "7. JavaScript\n",
    "8. Julia"
   ]
  },
  {
   "cell_type": "markdown",
   "id": "939cf07d-2d54-41ba-8e68-ef4f74db48b9",
   "metadata": {},
   "source": [
    "Some of the commonly used libraries used by Data Scientsits include:\n",
    "1. Pandas\n",
    "2. NumPy\n",
    "3. MatplotLib\n",
    "4. Seaborn\n",
    "5. Scikit-Learn\n",
    "6. Keras\n",
    "7. TensorFlow\n",
    "8. Pytorch\n",
    "9. BigDL\n",
    "10. Vegas\n",
    "11. ggplot2"
   ]
  },
  {
   "cell_type": "markdown",
   "id": "cc89a856-6fc6-4c7e-a081-7598331cdaac",
   "metadata": {},
   "source": [
    "| Data Science Tools |\n",
    "| ------------------ |\n",
    "| JupyterLab |\n",
    "| RStudio |\n",
    "| Spyder |"
   ]
  },
  {
   "cell_type": "markdown",
   "id": "0aa1e239-2e7a-41f5-a2f2-b125148622af",
   "metadata": {},
   "source": [
    "### Below are a few examples of evaluating arithmetic expressions in Python"
   ]
  },
  {
   "cell_type": "code",
   "execution_count": 2,
   "id": "16b45b30-dc24-436e-8fe3-3a216c5cb3e0",
   "metadata": {},
   "outputs": [
    {
     "data": {
      "text/plain": [
       "17"
      ]
     },
     "execution_count": 2,
     "metadata": {},
     "output_type": "execute_result"
    }
   ],
   "source": [
    "# This is a simple arithematic expression to multiply then add integers\n",
    "(3*4)+5"
   ]
  },
  {
   "cell_type": "code",
   "execution_count": 5,
   "id": "b6e0c7ec-172b-4ead-8614-5cfa0a15d69e",
   "metadata": {},
   "outputs": [
    {
     "data": {
      "text/plain": [
       "3.3333333333333335"
      ]
     },
     "execution_count": 5,
     "metadata": {},
     "output_type": "execute_result"
    }
   ],
   "source": [
    "# This will convert 200 minutes to hours by dividing by 60\n",
    "200/60"
   ]
  },
  {
   "cell_type": "markdown",
   "id": "20cd9333-e3d9-488f-b17e-d7545b2d2f9d",
   "metadata": {},
   "source": [
    "## Author\n",
    "Ujjwal Abhishek"
   ]
  }
 ],
 "metadata": {
  "kernelspec": {
   "display_name": "Python 3 (ipykernel)",
   "language": "python",
   "name": "python3"
  },
  "language_info": {
   "codemirror_mode": {
    "name": "ipython",
    "version": 3
   },
   "file_extension": ".py",
   "mimetype": "text/x-python",
   "name": "python",
   "nbconvert_exporter": "python",
   "pygments_lexer": "ipython3",
   "version": "3.12.4"
  }
 },
 "nbformat": 4,
 "nbformat_minor": 5
}
